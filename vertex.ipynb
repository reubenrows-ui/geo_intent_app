{
 "cells": [
  {
   "cell_type": "code",
   "execution_count": null,
   "id": "3e05cc88",
   "metadata": {},
   "outputs": [
    {
     "data": {
      "text/plain": [
       "'{\\n  \"error\": {\\n    \"code\": 403,\\n    \"message\": \"Permission denied on resource project PROJECT_ID.\",\\n    \"status\": \"PERMISSION_DENIED\",\\n    \"details\": [\\n      {\\n        \"@type\": \"type.googleapis.com/google.rpc.ErrorInfo\",\\n        \"reason\": \"CONSUMER_INVALID\",\\n        \"domain\": \"googleapis.com\",\\n        \"metadata\": {\\n          \"service\": \"aiplatform.googleapis.com\",\\n          \"containerInfo\": \"PROJECT_ID\",\\n          \"consumer\": \"projects/PROJECT_ID\"\\n        }\\n      },\\n      {\\n        \"@type\": \"type.googleapis.com/google.rpc.LocalizedMessage\",\\n        \"locale\": \"en-US\",\\n        \"message\": \"Permission denied on resource project PROJECT_ID.\"\\n      },\\n      {\\n        \"@type\": \"type.googleapis.com/google.rpc.Help\",\\n        \"links\": [\\n          {\\n            \"description\": \"Google developers console\",\\n            \"url\": \"https://console.developers.google.com\"\\n          }\\n        ]\\n      }\\n    ]\\n  }\\n}\\n'"
      ]
     },
     "execution_count": 2,
     "metadata": {},
     "output_type": "execute_result"
    }
   ],
   "source": [
    "from google import auth as google_auth\n",
    "from google.auth.transport import requests as google_requests\n",
    "import requests\n",
    "\n",
    "def get_identity_token():\n",
    "    credentials, _ = google_auth.default()\n",
    "    auth_request = google_requests.Request()\n",
    "    credentials.refresh(auth_request)\n",
    "    return credentials.token\n",
    "\n",
    "response = requests.get(\n",
    "f\"https://us-central1-aiplatform.googleapis.com/v1/projects/kaggle-hackathon-project/locations/us-central1/reasoningEngines/2605635849643098112\",\n",
    "    headers={\n",
    "        \"Content-Type\": \"application/json; charset=utf-8\",\n",
    "        \"Authorization\": f\"Bearer {get_identity_token()}\",\n",
    "    },\n",
    ")\n",
    "response.text"
   ]
  }
 ],
 "metadata": {
  "kernelspec": {
   "display_name": "Python 3",
   "language": "python",
   "name": "python3"
  },
  "language_info": {
   "codemirror_mode": {
    "name": "ipython",
    "version": 3
   },
   "file_extension": ".py",
   "mimetype": "text/x-python",
   "name": "python",
   "nbconvert_exporter": "python",
   "pygments_lexer": "ipython3",
   "version": "3.11.9"
  }
 },
 "nbformat": 4,
 "nbformat_minor": 5
}
